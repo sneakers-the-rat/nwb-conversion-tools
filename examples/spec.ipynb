{
 "cells": [
  {
   "cell_type": "code",
   "execution_count": 1,
   "id": "demanding-request",
   "metadata": {},
   "outputs": [],
   "source": [
    "from pathlib import Path\n",
    "import json\n",
    "import inspect\n",
    "from pprint import pprint\n",
    "\n",
    "from nwb_conversion_tools import spec"
   ]
  },
  {
   "cell_type": "markdown",
   "id": "organic-litigation",
   "metadata": {},
   "source": [
    "# Specify a field in some external file.\n",
    "\n",
    "These classes inherit from `spec.external_file.BaseExternalFileSpec`, and allow you to specify some metadata `key` with a value pulled from some potentially nested `field` in a `path` relative to the `base_path` passed during `parse`\n",
    "\n",
    "start by making some fake metadata and saving it as, say, .json"
   ]
  },
  {
   "cell_type": "code",
   "execution_count": 2,
   "id": "critical-henry",
   "metadata": {},
   "outputs": [],
   "source": [
    "metadata = {\n",
    "    'subject': {\n",
    "        'id': 'jonny',\n",
    "        'dob': 'not tellin u nosy',\n",
    "        \n",
    "    },\n",
    "    'timestamp': '2021-03-idk-today',\n",
    "    'stimuli': {\n",
    "        'left_tone':{\n",
    "            'hz': 10000,\n",
    "            'amplitudes': [1,2,4,5]\n",
    "        },\n",
    "        'right_tone':{\n",
    "            'hz': 5000,\n",
    "            'amplitudes': [6,7,8,9]\n",
    "        }\n",
    "    }\n",
    "}\n",
    "\n",
    "# save to 'subdirectory_1/subdirectory_2/fake_metadata.json'\n",
    "temp_json_file = Path() / 'subdirectory_1' / 'subdirectory_2'\n",
    "temp_json_file.mkdir(parents=True, exist_ok=True)\n",
    "temp_json_file = temp_json_file / 'fake_metadata.json'\n",
    "with open(temp_json_file, 'w') as jfile:\n",
    "    json.dump(metadata, jfile)"
   ]
  },
  {
   "cell_type": "markdown",
   "id": "natural-importance",
   "metadata": {},
   "source": [
    "Now we specify that, relative to some directory (we want to deploy the same pattern over a number of directories),\n",
    "how to find the file and index it"
   ]
  },
  {
   "cell_type": "code",
   "execution_count": 3,
   "id": "forbidden-copper",
   "metadata": {},
   "outputs": [],
   "source": [
    "json_spec = spec.JSON(\n",
    "    path=Path('subdirectory_2/fake_metadata.json'), \n",
    "    key=\"Subject ID\", \n",
    "    field = ('subject', 'id')\n",
    ")"
   ]
  },
  {
   "cell_type": "markdown",
   "id": "adapted-rebate",
   "metadata": {},
   "source": [
    "The NWBConverter class will then, when run_conversion is called, parse the spec with the current directory as the argument"
   ]
  },
  {
   "cell_type": "code",
   "execution_count": 4,
   "id": "modern-strand",
   "metadata": {},
   "outputs": [
    {
     "data": {
      "text/plain": [
       "{'Subject ID': 'jonny'}"
      ]
     },
     "execution_count": 4,
     "metadata": {},
     "output_type": "execute_result"
    }
   ],
   "source": [
    "json_spec.parse(Path('subdirectory_1'))"
   ]
  },
  {
   "cell_type": "markdown",
   "id": "wooden-industry",
   "metadata": {},
   "source": [
    "It'll slice however you want (including i guess if you want to pass `slice` objects)"
   ]
  },
  {
   "cell_type": "code",
   "execution_count": 5,
   "id": "rising-batch",
   "metadata": {},
   "outputs": [],
   "source": [
    "json_spec_2 = spec.JSON(\n",
    "    path=Path('subdirectory_2/fake_metadata.json'), \n",
    "    key=\"Stimulus Amplitude\", \n",
    "    field = ('stimuli', 'left_tone', 'amplitudes', 2)\n",
    ")"
   ]
  },
  {
   "cell_type": "code",
   "execution_count": 6,
   "id": "capable-double",
   "metadata": {},
   "outputs": [
    {
     "data": {
      "text/plain": [
       "{'Stimulus Amplitude': 4}"
      ]
     },
     "execution_count": 6,
     "metadata": {},
     "output_type": "execute_result"
    }
   ],
   "source": [
    "json_spec_2.parse(Path('subdirectory_1'))"
   ]
  },
  {
   "cell_type": "markdown",
   "id": "extreme-circulation",
   "metadata": {},
   "source": [
    "# Extending\n",
    "\n",
    "You should only need to override the `_load_data` method with one that takes a path and returns a potentially nested dictionary.\n",
    "\n",
    "See, for example, the `JSON` class's docstring is about as long as all the code include boilerplate:"
   ]
  },
  {
   "cell_type": "code",
   "execution_count": 8,
   "id": "suited-paris",
   "metadata": {},
   "outputs": [
    {
     "name": "stdout",
     "output_type": "stream",
     "text": [
      "class JSON(BaseExternalFileSpec):\n",
      "\n",
      "    def __init__(self, hook:typing.Optional[typing.Callable]=None,\n",
      "                 *args, **kwargs):\n",
      "        \"\"\"\n",
      "        Load a field from a .json file. see base class for docs\n",
      "\n",
      "        Parameters\n",
      "        ----------\n",
      "        hook : Optionally, include some callable function to use as the fallback\n",
      "            object loader hook (see ``object_hook`` argument in ``json.load`` for more information)\n",
      "        args : passed to :class:`.BaseExternalFileSpec`\n",
      "        kwargs :\n",
      "        \"\"\"\n",
      "        self.hook = hook\n",
      "        super(JSON, self).__init__(*args, **kwargs)\n",
      "\n",
      "    def _load_file(self, path:Path) -> dict:\n",
      "        with open(path, 'r') as p:\n",
      "            loaded = json.load(p, object_hook=self.hook)\n",
      "        return loaded\n",
      "\n"
     ]
    }
   ],
   "source": [
    "print(inspect.getsource(spec.JSON))"
   ]
  },
  {
   "cell_type": "markdown",
   "id": "junior-bailey",
   "metadata": {},
   "source": [
    "(clean up after ourselves)"
   ]
  },
  {
   "cell_type": "code",
   "execution_count": 12,
   "id": "intense-fisher",
   "metadata": {},
   "outputs": [],
   "source": [
    "temp_json_file.unlink()\n",
    "temp_json_file.parents[0].rmdir()\n",
    "temp_json_file.parents[1].rmdir()"
   ]
  },
  {
   "cell_type": "code",
   "execution_count": null,
   "id": "angry-parcel",
   "metadata": {},
   "outputs": [],
   "source": []
  }
 ],
 "metadata": {
  "kernelspec": {
   "display_name": "nwbvenv",
   "language": "python",
   "name": "nwbvenv"
  },
  "language_info": {
   "codemirror_mode": {
    "name": "ipython",
    "version": 3
   },
   "file_extension": ".py",
   "mimetype": "text/x-python",
   "name": "python",
   "nbconvert_exporter": "python",
   "pygments_lexer": "ipython3",
   "version": "3.8.7"
  }
 },
 "nbformat": 4,
 "nbformat_minor": 5
}
